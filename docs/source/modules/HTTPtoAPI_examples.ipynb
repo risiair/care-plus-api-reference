{
 "cells": [
  {
   "cell_type": "markdown",
   "metadata": {},
   "source": [
    "## Create items"
   ]
  },
  {
   "cell_type": "code",
   "execution_count": 10,
   "metadata": {},
   "outputs": [
    {
     "name": "stdout",
     "output_type": "stream",
     "text": [
      "b'create success'\n",
      "200\n"
     ]
    }
   ],
   "source": [
    "from datetime import datetime, timezone, timedelta\n",
    "import requests\n",
    "import json\n",
    "\n",
    "\n",
    "\n",
    "# param: \n",
    "# 'operation':'create'|'read'\n",
    "# 'payload': if op is create: provide items, else if op is read: provide keys\n",
    "\n",
    "tz = timezone(timedelta(hours=+8))\n",
    "timestamp = datetime(2019, 1, 1, 16, tzinfo=tz).timestamp()\n",
    "\n",
    "primary_key1 = 'UserID'\n",
    "primary_key2 = 'OrderTimestamp'\n",
    "\n",
    "''' data format:\n",
    "my_data = \\\n",
    "{\n",
    "    \"operation\": \"write\",\n",
    "    \"payload\": \n",
    "    \"payload\": \n",
    "    [\n",
    "        {\n",
    "            'UserID': UserID(string), \n",
    "            'OrderTimestamp': OrderTimestamp(string),\n",
    "            \"lie_percentage\": lie_percentage(string),\n",
    "            \"sit_percentage\": sit_percentage(string),\n",
    "            \"stand_percentage\": stand_percentage(string),\n",
    "            \"walk_percentage\": walk_percentage(string),\n",
    "            \"entry_dict\": entry_dict(dict)\n",
    "        },\n",
    "        {\n",
    "            'UserID': UserID(string), \n",
    "            'OrderTimestamp': OrderTimestamp(string),\n",
    "            \"lie_percentage\": lie_percentage(string),\n",
    "            \"sit_percentage\": sit_percentage(string),\n",
    "            \"stand_percentage\": stand_percentage(string),\n",
    "            \"walk_percentage\": walk_percentage(string),\n",
    "            \"entry_dict\": entry_dict(dict)\n",
    "        },\n",
    "    ]\n",
    "}\n",
    "'''\n",
    "\n",
    "my_data = \\\n",
    "{\n",
    "    \"operation\": \"create\",\n",
    "    \"payload\": \n",
    "    [\n",
    "        {\n",
    "            primary_key1: \"mac_0dxk2-43r9jf\", \n",
    "            primary_key2: str(int(timestamp)),\n",
    "            \"lie_percentage\": \"0.1\",\n",
    "            \"sit_percentage\": \"0.2\",\n",
    "            \"stand_percentage\": \"0.5\",\n",
    "            \"walk_percentage\": \"0.2\",\n",
    "            \"entry_dict\": {\"region1\": \"0.3\", \"region2\": \"0.7\"}\n",
    "        },\n",
    "        {\n",
    "            primary_key1: \"mac_0dxk2-43r9jf\", \n",
    "            primary_key2: str(int(timestamp+1)),\n",
    "            \"lie_percentage\": \"0.3\",\n",
    "            \"sit_percentage\": \"0.0\",\n",
    "            \"stand_percentage\": \"0.6\",\n",
    "            \"walk_percentage\": \"0.1\", \n",
    "            \"entry_dict\": {\"region1\": \"0.3\", \"region2\": \"0.2\", \"region2\": \"0.5\"}\n",
    "        }\n",
    "    ]\n",
    "}\n",
    "\n",
    "\n",
    "\n",
    "url = 'https://jrwgds4oz0.execute-api.ap-northeast-1.amazonaws.com/prod/dynamo'\n",
    "\n",
    "headers = {\"Content-Type\": \"application/json;charset=UTF-8\"}\n",
    "\n",
    "req = requests.post(url, headers=headers, data = json.dumps(my_data))\n",
    "\n",
    "print(req.content)\n",
    "print(req.status_code)"
   ]
  },
  {
   "cell_type": "code",
   "execution_count": null,
   "metadata": {},
   "outputs": [],
   "source": []
  },
  {
   "cell_type": "code",
   "execution_count": null,
   "metadata": {},
   "outputs": [],
   "source": []
  },
  {
   "cell_type": "markdown",
   "metadata": {},
   "source": [
    "## Query items"
   ]
  },
  {
   "cell_type": "code",
   "execution_count": 17,
   "metadata": {},
   "outputs": [
    {
     "name": "stdout",
     "output_type": "stream",
     "text": [
      "[{'UserID': 'mac_0dxk2-43r9jf', 'walk_percentage': '0.2', 'stand_percentage': '0.5', 'sit_percentage': '0.2', 'entry_dict': {'region1': '0.3', 'region2': '0.7'}, 'OrderTimestamp': '1546329600', 'lie_percentage': '0.1'}]\n",
      "200\n"
     ]
    }
   ],
   "source": [
    "from datetime import datetime, timezone, timedelta\n",
    "import requests\n",
    "import json\n",
    "\n",
    "\n",
    "\n",
    "# param: \n",
    "# 'operation':'create'|'read'\n",
    "# 'payload': if op is create: provide items, else if op is read: provide keys\n",
    "\n",
    "tz = timezone(timedelta(hours=+8))\n",
    "timestamp = int(datetime(2019, 1, 1, 16, tzinfo=tz).timestamp())\n",
    "\n",
    "primary_key1 = 'UserID'\n",
    "primary_key2 = 'OrderTimestamp'\n",
    "\n",
    "\n",
    "''' data format:\n",
    "my_data = \\\n",
    "{\n",
    "    \"operation\": \"read\",\n",
    "    \"payload\": \n",
    "    {\n",
    "        'key1': UsrID(string), \n",
    "        'key2range':[timestamp(string), timestamp(string)]\n",
    "    }\n",
    "}\n",
    "'''\n",
    "\n",
    "\n",
    "my_data = \\\n",
    "{\n",
    "    \"operation\": \"read\",\n",
    "    \"payload\": \n",
    "    {\n",
    "        'key1':\"mac_0dxk2-43r9jf\", \n",
    "        'key2range':[str(timestamp), str(timestamp+1)]\n",
    "    }\n",
    "}\n",
    "\n",
    "\n",
    "url = 'https://jrwgds4oz0.execute-api.ap-northeast-1.amazonaws.com/prod/dynamo'\n",
    "\n",
    "headers = {\"Content-Type\": \"application/json;charset=UTF-8\"}\n",
    "\n",
    "req = requests.post(url, headers=headers, data = json.dumps(my_data))\n",
    "\n",
    "print(json.loads(req.content))\n",
    "print(req.status_code)"
   ]
  },
  {
   "cell_type": "code",
   "execution_count": 18,
   "metadata": {},
   "outputs": [
    {
     "name": "stdout",
     "output_type": "stream",
     "text": [
      "{'UserID': 'mac_0dxk2-43r9jf', 'walk_percentage': '0.2', 'stand_percentage': '0.5', 'sit_percentage': '0.2', 'entry_dict': {'region1': '0.3', 'region2': '0.7'}, 'OrderTimestamp': '1546329600', 'lie_percentage': '0.1'}\n"
     ]
    }
   ],
   "source": [
    "for item in json.loads(req.content):\n",
    "    print(item)"
   ]
  },
  {
   "cell_type": "code",
   "execution_count": null,
   "metadata": {},
   "outputs": [],
   "source": []
  }
 ],
 "metadata": {
  "kernelspec": {
   "display_name": "Python(tf2)",
   "language": "python",
   "name": "myenv"
  },
  "language_info": {
   "codemirror_mode": {
    "name": "ipython",
    "version": 3
   },
   "file_extension": ".py",
   "mimetype": "text/x-python",
   "name": "python",
   "nbconvert_exporter": "python",
   "pygments_lexer": "ipython3",
   "version": "3.7.7"
  }
 },
 "nbformat": 4,
 "nbformat_minor": 4
}
